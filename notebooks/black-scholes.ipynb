{
 "cells": [
  {
   "cell_type": "markdown",
   "metadata": {},
   "source": [
    "# Black Scholes Options Pricing and Implied Volatility Calculations\n",
    "This notebook implements and tests core functionalities for calculating options prices and implied volatility using the Black-Scholes model and the Newton-Raphson method.\n"
   ]
  },
  {
   "cell_type": "markdown",
   "metadata": {},
   "source": [
    "### Imports and Setup"
   ]
  },
  {
   "cell_type": "code",
   "execution_count": 1,
   "metadata": {},
   "outputs": [],
   "source": [
    "import numpy as np\n",
    "import scipy.stats as si\n",
    "from scipy.optimize import newton"
   ]
  },
  {
   "cell_type": "markdown",
   "metadata": {},
   "source": [
    "### Call Option Price Calculation\n",
    "\n",
    "Black Scholes formula for the price of a European call option:\n",
    "\n",
    "$$\n",
    "C = N(d_1) \\cdot S - N(d_2) \\cdot K e^{-rT}\n",
    "$$\n",
    "\n",
    "Where:\n",
    "\n",
    "$$\n",
    "d_1 = \\frac{1}{\\sigma \\sqrt{T}} \\left[ \\log\\left(\\frac{S}{K}\\right) + \\left(r + \\frac{\\sigma^2}{2}\\right)T \\right]\n",
    "$$\n",
    "\n",
    "$$\n",
    "d_2 = d_1 - \\sigma \\sqrt{T}\n",
    "$$\n",
    "\n",
    "\n",
    "- **C** is The price of the European call option\n",
    "- **N(d)** is The cumulative distribution function (CDF) of the standard normal distribution\n",
    "- **S** is current spot price of the underlying asset\n",
    "- **K** is the exercise or strike price\n",
    "- **$\\sigma$** is the std of continuously compounded annual returns, or volatility\n",
    "- **r** is the annualized risk-free interest rate"
   ]
  },
  {
   "cell_type": "code",
   "execution_count": 7,
   "metadata": {},
   "outputs": [],
   "source": [
    "def bs_call(S, K, r, sigma, T):\n",
    "  \"\"\"Calculate Black Sholes call option price\"\"\"\n",
    "  d1 = (np.log(S / K) + (r + 0.5 * sigma ** 2) * T) / (sigma * np.sqrt(T))\n",
    "  d2 = d1 - sigma * np.sqrt(T)\n",
    "  return (S * si.norm.cdf(d1) - K * np.exp(-r * T) * si.norm.cdf(d2))"
   ]
  },
  {
   "cell_type": "markdown",
   "metadata": {},
   "source": [
    "### Put Option Price Calculation\n",
    "\n",
    "$$\n",
    "P = N(-d_2) \\cdot K e^{-rT} - N(-d_1) \\cdot S\n",
    "$$"
   ]
  },
  {
   "cell_type": "code",
   "execution_count": 10,
   "metadata": {},
   "outputs": [],
   "source": [
    "def bs_put(S, K, r, sigma, T):\n",
    "  \"\"\"Calculate Black Scholes put option price\"\"\"\n",
    "  d1 = (np.log(S / K) + (r + 0.5 * sigma ** 2) * T) / (sigma * np.sqrt(T))\n",
    "  d2 = d1 - sigma * np.sqrt(T)\n",
    "\n",
    "  return (K * np.exp(-r * T) * si.norm.cdf(-d2) - S * si.norm.cdf(-d1))"
   ]
  },
  {
   "cell_type": "code",
   "execution_count": null,
   "metadata": {},
   "outputs": [],
   "source": []
  }
 ],
 "metadata": {
  "kernelspec": {
   "display_name": "option-pricing-prediction-wpywFgs_-py3.12",
   "language": "python",
   "name": "python3"
  },
  "language_info": {
   "codemirror_mode": {
    "name": "ipython",
    "version": 3
   },
   "file_extension": ".py",
   "mimetype": "text/x-python",
   "name": "python",
   "nbconvert_exporter": "python",
   "pygments_lexer": "ipython3",
   "version": "3.11.4"
  }
 },
 "nbformat": 4,
 "nbformat_minor": 2
}
